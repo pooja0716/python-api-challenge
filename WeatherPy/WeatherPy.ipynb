{
 "cells": [
  {
   "cell_type": "markdown",
   "metadata": {},
   "source": [
    "# WeatherPy\n",
    "----\n",
    "\n",
    "#### Note\n",
    "* Instructions have been included for each segment. You do not have to follow them exactly, but they are included to help you think through the steps.\n",
    "\n",
    "Observations\n",
    "The weather does get warmer the closer you get to the equator, and colder the further away you get.\n",
    "Amongst my graphs, the \"Northern Hemisphere - Max Temp vs. Latitude Linear Regression\" has the closest to 1 r-squared value which means most of the data fits the regression model.\n",
    "Humidity, Cloudiness, and Wind Speed don't appear to be affected by latitude."
   ]
  },
  {
   "cell_type": "code",
   "execution_count": 1,
   "metadata": {
    "scrolled": true
   },
   "outputs": [],
   "source": [
    "# Dependencies and Setup\n",
    "import matplotlib.pyplot as plt\n",
    "import pandas as pd\n",
    "import numpy as np\n",
    "import json\n",
    "import requests\n",
    "import time\n",
    "from scipy.stats import linregress\n",
    "\n",
    "# Import API key\n",
    "from api_keys import weather_api_key\n",
    "\n",
    "# Incorporated citipy to determine city based on latitude and longitude\n",
    "from citipy import citipy\n",
    "\n",
    "# Output File (CSV)\n",
    "output_data_file = \"../output_data/cities.csv\"\n",
    "\n",
    "# Range of latitudes and longitudes\n",
    "lat_range = (-90, 90)\n",
    "lng_range = (-180, 180)"
   ]
  },
  {
   "cell_type": "markdown",
   "metadata": {},
   "source": [
    "## Generate Cities List"
   ]
  },
  {
   "cell_type": "code",
   "execution_count": 2,
   "metadata": {},
   "outputs": [
    {
     "name": "stdout",
     "output_type": "stream",
     "text": [
      "651\n"
     ]
    }
   ],
   "source": [
    "# List for holding lat_lngs and cities\n",
    "lat_lngs = []\n",
    "cities = []\n",
    "\n",
    "# Create a set of random lat and lng combinations\n",
    "lats = np.random.uniform(low=-90.000, high=90.000, size=1500)\n",
    "lngs = np.random.uniform(low=-180.000, high=180.000, size=1500)\n",
    "lat_lngs = zip(lats, lngs)\n",
    "\n",
    "# Identify nearest city for each lat, lng combination\n",
    "for lat_lng in lat_lngs:\n",
    "    city = citipy.nearest_city(lat_lng[0], lat_lng[1]).city_name\n",
    "    \n",
    "    # If the city is unique, then add it to a our cities list\n",
    "    if city not in cities:\n",
    "        cities.append(city)\n",
    "\n",
    "# Print the city count to confirm sufficient count\n",
    "print(len(cities))"
   ]
  },
  {
   "cell_type": "markdown",
   "metadata": {},
   "source": [
    "### Perform API Calls\n",
    "* Perform a weather check on each city using a series of successive API calls.\n",
    "* Include a print log of each city as it'sbeing processed (with the city number and city name).\n"
   ]
  },
  {
   "cell_type": "code",
   "execution_count": 3,
   "metadata": {
    "scrolled": true
   },
   "outputs": [
    {
     "name": "stdout",
     "output_type": "stream",
     "text": [
      "Beginning Data Retrieval\n",
      "-----------------------------\n",
      "Processing Record 1 of 651: Rikitea\n",
      "Processing Record 2 of 651: Busselton\n",
      "Processing Record 3 of 651: Vaini\n",
      "Processing Record 4 of 651: Jamestown\n",
      "City not found. Skipping...\n",
      "Processing Record 6 of 651: East London\n",
      "Processing Record 7 of 651: Tuktoyaktuk\n",
      "Processing Record 8 of 651: Bengkulu\n",
      "Processing Record 9 of 651: Albany\n",
      "City not found. Skipping...\n",
      "Processing Record 11 of 651: Carnarvon\n",
      "Processing Record 12 of 651: Sinnamary\n",
      "Processing Record 13 of 651: Pangnirtung\n",
      "Processing Record 14 of 651: Punta Arenas\n",
      "Processing Record 15 of 651: Mandurah\n",
      "Processing Record 16 of 651: Ancud\n",
      "Processing Record 17 of 651: Douentza\n",
      "Processing Record 18 of 651: Portland\n",
      "Processing Record 19 of 651: Te Anau\n",
      "Processing Record 20 of 651: Ribeira Grande\n",
      "Processing Record 21 of 651: Sitka\n",
      "Processing Record 22 of 651: Bredasdorp\n",
      "Processing Record 23 of 651: Ushuaia\n",
      "Processing Record 24 of 651: Mahébourg\n",
      "Processing Record 25 of 651: St. George's\n",
      "Processing Record 26 of 651: Hobart\n",
      "Processing Record 27 of 651: Māngrol\n",
      "Processing Record 28 of 651: Iranshahr\n",
      "Processing Record 29 of 651: Kiama\n",
      "Processing Record 30 of 651: Hermanus\n",
      "Processing Record 31 of 651: Tuatapere\n",
      "Processing Record 32 of 651: Sivas Province\n",
      "Processing Record 33 of 651: Yangi Marg`ilon\n",
      "Processing Record 34 of 651: Cidreira\n",
      "Processing Record 35 of 651: Richards Bay\n",
      "Processing Record 36 of 651: Qandala\n",
      "Processing Record 37 of 651: Cape Town\n",
      "Processing Record 38 of 651: Iqaluit\n",
      "City not found. Skipping...\n",
      "Processing Record 40 of 651: Norman Wells\n",
      "Processing Record 41 of 651: Hasaki\n",
      "Processing Record 42 of 651: Coolum Beach\n",
      "Processing Record 43 of 651: Butaritari\n",
      "Processing Record 44 of 651: Avarua\n",
      "Processing Record 45 of 651: Barrow\n",
      "Processing Record 46 of 651: Lorengau\n",
      "Processing Record 47 of 651: Mount Gambier\n",
      "Processing Record 48 of 651: Hambantota\n",
      "Processing Record 49 of 651: Kapaa\n",
      "Processing Record 50 of 651: Thompson\n",
      "Processing Record 51 of 651: North Platte\n",
      "Processing Record 52 of 651: Esperance\n",
      "Processing Record 53 of 651: Bluff\n",
      "City not found. Skipping...\n",
      "Processing Record 55 of 651: Atuona\n",
      "Processing Record 56 of 651: Tasiilaq\n",
      "Processing Record 57 of 651: Christchurch\n",
      "Processing Record 58 of 651: Ugoofaaru\n",
      "Processing Record 59 of 651: Ribas do Rio Pardo\n",
      "Processing Record 60 of 651: Copiapó\n",
      "Processing Record 61 of 651: Castro\n",
      "Processing Record 62 of 651: São Filipe\n",
      "Processing Record 63 of 651: Maragogi\n",
      "Processing Record 64 of 651: Rundu\n",
      "Processing Record 65 of 651: Cândido Mendes\n",
      "Processing Record 66 of 651: Pevek\n",
      "Processing Record 67 of 651: Yamada\n",
      "City not found. Skipping...\n",
      "Processing Record 69 of 651: San Cristobal\n",
      "Processing Record 70 of 651: Gallup\n",
      "Processing Record 71 of 651: Muros\n",
      "Processing Record 72 of 651: Fortuna\n",
      "Processing Record 73 of 651: Mar del Plata\n",
      "Processing Record 74 of 651: San Patricio\n",
      "Processing Record 75 of 651: Basco\n",
      "Processing Record 76 of 651: Novomykolayivka\n",
      "Processing Record 77 of 651: Khatanga\n",
      "Processing Record 78 of 651: Córdoba\n",
      "Processing Record 79 of 651: Hilo\n",
      "Processing Record 80 of 651: Kurumkan\n",
      "City not found. Skipping...\n",
      "Processing Record 82 of 651: Berlevåg\n",
      "Processing Record 83 of 651: Santa Rosa\n",
      "City not found. Skipping...\n",
      "Processing Record 85 of 651: Zhuanghe\n",
      "Processing Record 86 of 651: Tiksi\n",
      "Processing Record 87 of 651: Sergeevka\n",
      "Processing Record 88 of 651: Saint-Philippe\n",
      "Processing Record 89 of 651: Nouadhibou\n",
      "Processing Record 90 of 651: Mossamedes\n",
      "Processing Record 91 of 651: North Bend\n",
      "Processing Record 92 of 651: Sur\n",
      "Processing Record 93 of 651: Kailua\n",
      "Processing Record 94 of 651: Ust-Maya\n",
      "Processing Record 95 of 651: Murray Bridge\n",
      "Processing Record 96 of 651: Tessalit\n",
      "Processing Record 97 of 651: Mataura\n",
      "Processing Record 98 of 651: Constitución\n",
      "Processing Record 99 of 651: Qaanaaq\n",
      "Processing Record 100 of 651: Bundaberg\n",
      "Processing Record 101 of 651: Ceres\n",
      "Processing Record 102 of 651: Milas\n",
      "Processing Record 103 of 651: Buin\n",
      "Processing Record 104 of 651: Bubaque\n",
      "Processing Record 105 of 651: Tigil'\n",
      "Processing Record 106 of 651: Ostrovnoy\n",
      "Processing Record 107 of 651: Longyearbyen\n",
      "Processing Record 108 of 651: Kabompo\n",
      "Processing Record 109 of 651: Ilulissat\n",
      "Processing Record 110 of 651: Kozhva\n",
      "Processing Record 111 of 651: Dikson\n",
      "Processing Record 112 of 651: Bata\n",
      "Processing Record 113 of 651: Flinders\n",
      "Processing Record 114 of 651: Meulaboh\n",
      "Processing Record 115 of 651: Sistranda\n",
      "Processing Record 116 of 651: São Raimundo das Mangabeiras\n",
      "Processing Record 117 of 651: Puerto Ayora\n",
      "Processing Record 118 of 651: Siniscola\n",
      "Processing Record 119 of 651: Saint Paul Harbor\n",
      "Processing Record 120 of 651: Bilma\n",
      "Processing Record 121 of 651: Caravelas\n",
      "Processing Record 122 of 651: Rocha\n",
      "Processing Record 123 of 651: Kavaratti\n",
      "Processing Record 124 of 651: Mahabalipuram\n",
      "Processing Record 125 of 651: Airai\n",
      "Processing Record 126 of 651: Chifeng\n",
      "Processing Record 127 of 651: Progreso\n",
      "Processing Record 128 of 651: Kaitangata\n",
      "Processing Record 129 of 651: Mumbwa\n",
      "Processing Record 130 of 651: Hay River\n",
      "Processing Record 131 of 651: New Norfolk\n",
      "Processing Record 132 of 651: Champasak\n",
      "City not found. Skipping...\n",
      "Processing Record 134 of 651: Aksu\n",
      "City not found. Skipping...\n",
      "Processing Record 136 of 651: Talnakh\n",
      "Processing Record 137 of 651: Grindavik\n",
      "Processing Record 138 of 651: Kurmanayevka\n",
      "Processing Record 139 of 651: Olafsvik\n",
      "Processing Record 140 of 651: Osinovo\n",
      "Processing Record 141 of 651: Odesa\n",
      "Processing Record 142 of 651: Makkah al Mukarramah\n",
      "Processing Record 143 of 651: Bathsheba\n",
      "Processing Record 144 of 651: Saldanha\n",
      "Processing Record 145 of 651: Nara\n",
      "Processing Record 146 of 651: Padang\n",
      "Processing Record 147 of 651: San Quintín\n",
      "Processing Record 148 of 651: Cayenne\n",
      "Processing Record 149 of 651: Ilhabela\n",
      "Processing Record 150 of 651: Kudahuvadhoo\n",
      "Processing Record 151 of 651: Nuuk\n",
      "Processing Record 152 of 651: Jalu\n",
      "Processing Record 153 of 651: Hermon\n",
      "Processing Record 154 of 651: High Level\n",
      "Processing Record 155 of 651: Imeni Poliny Osipenko\n",
      "Processing Record 156 of 651: Solnechnyy\n",
      "Processing Record 157 of 651: Saint-Pierre\n",
      "Processing Record 158 of 651: Spornoye\n",
      "Processing Record 159 of 651: Dahuk\n",
      "Processing Record 160 of 651: Hofn\n",
      "Processing Record 161 of 651: Kiryat Gat\n",
      "Processing Record 162 of 651: Salalah\n",
      "Processing Record 163 of 651: Katsuura\n",
      "Processing Record 164 of 651: Tingi\n",
      "Processing Record 165 of 651: Lethem\n",
      "Processing Record 166 of 651: Okhotsk\n",
      "Processing Record 167 of 651: Mergen\n",
      "Processing Record 168 of 651: Porto-Novo\n",
      "Processing Record 169 of 651: Gadwāl\n",
      "Processing Record 170 of 651: Kambove\n",
      "Processing Record 171 of 651: Sīkar\n",
      "Processing Record 172 of 651: Saint-Augustin\n",
      "City not found. Skipping...\n",
      "City not found. Skipping...\n",
      "Processing Record 175 of 651: Kargasok\n",
      "Processing Record 176 of 651: Tacoronte\n",
      "Processing Record 177 of 651: Philadelphia\n",
      "Processing Record 178 of 651: Husavik\n",
      "Processing Record 179 of 651: Tomatlán\n",
      "Processing Record 180 of 651: São João dos Patos\n",
      "Processing Record 181 of 651: Yanam\n",
      "Processing Record 182 of 651: Ayagoz\n",
      "Processing Record 183 of 651: Atar\n",
      "Processing Record 184 of 651: Mwinilunga\n",
      "Processing Record 185 of 651: Liverpool\n",
      "Processing Record 186 of 651: Kloulklubed\n",
      "Processing Record 187 of 651: Los Llanos de Aridane\n",
      "Processing Record 188 of 651: Juneau\n",
      "City not found. Skipping...\n",
      "Processing Record 190 of 651: Quang Ngai\n",
      "Processing Record 191 of 651: Porto Walter\n",
      "Processing Record 192 of 651: Cairns\n",
      "Processing Record 193 of 651: Bandarbeyla\n",
      "Processing Record 194 of 651: Anloga\n",
      "Processing Record 195 of 651: Mnogovershinnyy\n",
      "Processing Record 196 of 651: Romny\n",
      "Processing Record 197 of 651: Geraldton\n",
      "Processing Record 198 of 651: Saint George\n",
      "Processing Record 199 of 651: Necochea\n",
      "Processing Record 200 of 651: Saint Anthony\n",
      "Processing Record 201 of 651: Somerset\n",
      "Processing Record 202 of 651: Kharhiāl\n",
      "Processing Record 203 of 651: Presidencia Roque Sáenz Peña\n",
      "Processing Record 204 of 651: George Town\n",
      "Processing Record 205 of 651: Asău\n",
      "Processing Record 206 of 651: Manono\n",
      "City not found. Skipping...\n",
      "City not found. Skipping...\n",
      "Processing Record 209 of 651: Chokurdakh\n",
      "Processing Record 210 of 651: Harper\n",
      "Processing Record 211 of 651: Port Elizabeth\n"
     ]
    },
    {
     "name": "stdout",
     "output_type": "stream",
     "text": [
      "Processing Record 212 of 651: Guatire\n",
      "Processing Record 213 of 651: Bichena\n",
      "Processing Record 214 of 651: Severo-Kuril'sk\n",
      "Processing Record 215 of 651: Vikhorevka\n",
      "City not found. Skipping...\n",
      "City not found. Skipping...\n",
      "Processing Record 218 of 651: Hithadhoo\n",
      "Processing Record 219 of 651: Souillac\n",
      "City not found. Skipping...\n",
      "Processing Record 221 of 651: Bitung\n",
      "Processing Record 222 of 651: Arraial do Cabo\n",
      "Processing Record 223 of 651: Abnūb\n",
      "Processing Record 224 of 651: Boca do Acre\n",
      "Processing Record 225 of 651: Lashio\n",
      "Processing Record 226 of 651: Angoram\n",
      "Processing Record 227 of 651: Beaverlodge\n",
      "Processing Record 228 of 651: Kirovskiy\n",
      "City not found. Skipping...\n",
      "Processing Record 230 of 651: Jiwani\n",
      "Processing Record 231 of 651: Yellowknife\n",
      "Processing Record 232 of 651: Nanortalik\n",
      "Processing Record 233 of 651: Port-de-Bouc\n",
      "Processing Record 234 of 651: Klaksvík\n",
      "Processing Record 235 of 651: Kansanshi\n",
      "City not found. Skipping...\n",
      "Processing Record 237 of 651: Sisimiut\n",
      "Processing Record 238 of 651: Lovozero\n",
      "Processing Record 239 of 651: Baturaja\n",
      "Processing Record 240 of 651: Kieta\n",
      "Processing Record 241 of 651: Minudasht\n",
      "Processing Record 242 of 651: Mujiayingzi\n",
      "Processing Record 243 of 651: Vila Velha\n",
      "Processing Record 244 of 651: Pathein\n",
      "Processing Record 245 of 651: Kashan\n",
      "Processing Record 246 of 651: Ponta do Sol\n",
      "Processing Record 247 of 651: Ilongero\n",
      "Processing Record 248 of 651: Fairbanks\n",
      "Processing Record 249 of 651: Nizhniy Tsasuchey\n",
      "Processing Record 250 of 651: George Town\n",
      "City not found. Skipping...\n",
      "Processing Record 252 of 651: Aklavik\n",
      "Processing Record 253 of 651: Chakradharpur\n",
      "Processing Record 254 of 651: Berbera\n",
      "Processing Record 255 of 651: Toktogul\n",
      "Processing Record 256 of 651: Izhma\n",
      "Processing Record 257 of 651: Jishou\n",
      "Processing Record 258 of 651: Salinópolis\n",
      "Processing Record 259 of 651: Chui\n",
      "Processing Record 260 of 651: Monforte de Lemos\n",
      "Processing Record 261 of 651: Port Alfred\n",
      "Processing Record 262 of 651: Brownfield\n",
      "Processing Record 263 of 651: Margate\n",
      "Processing Record 264 of 651: Port Blair\n",
      "Processing Record 265 of 651: Zeya\n",
      "Processing Record 266 of 651: Jacareacanga\n",
      "Processing Record 267 of 651: Solwezi\n",
      "Processing Record 268 of 651: Sayyan\n",
      "Processing Record 269 of 651: Coahuayana Viejo\n",
      "City not found. Skipping...\n",
      "Processing Record 271 of 651: Marsabit\n",
      "City not found. Skipping...\n",
      "City not found. Skipping...\n",
      "Processing Record 274 of 651: Teeli\n",
      "Processing Record 275 of 651: Zyryanskoye\n",
      "Processing Record 276 of 651: Fort Nelson\n",
      "Processing Record 277 of 651: Kruisfontein\n",
      "Processing Record 278 of 651: Marakkanam\n",
      "Processing Record 279 of 651: Mackenzie\n",
      "Processing Record 280 of 651: Faanui\n",
      "Processing Record 281 of 651: Fort-Shevchenko\n",
      "Processing Record 282 of 651: Chisec\n",
      "Processing Record 283 of 651: Namtsy\n",
      "Processing Record 284 of 651: Ternate\n",
      "Processing Record 285 of 651: Awjilah\n",
      "Processing Record 286 of 651: Plettenberg Bay\n",
      "Processing Record 287 of 651: Ixtapa\n",
      "Processing Record 288 of 651: Hastings\n",
      "Processing Record 289 of 651: Dakoro\n",
      "Processing Record 290 of 651: Pundaguitan\n",
      "Processing Record 291 of 651: Baykit\n",
      "Processing Record 292 of 651: Provideniya\n",
      "Processing Record 293 of 651: Gimli\n",
      "Processing Record 294 of 651: Festus\n",
      "Processing Record 295 of 651: Hong Kong\n",
      "Processing Record 296 of 651: Pronsk\n",
      "Processing Record 297 of 651: Yazd\n",
      "Processing Record 298 of 651: Puerto Carreño\n",
      "Processing Record 299 of 651: Emba\n",
      "Processing Record 300 of 651: Norden\n",
      "Processing Record 301 of 651: Atherton\n",
      "City not found. Skipping...\n",
      "Processing Record 303 of 651: Biak\n",
      "Processing Record 304 of 651: Talagang\n",
      "Processing Record 305 of 651: Ambovombe\n",
      "Processing Record 306 of 651: Dinar\n",
      "Processing Record 307 of 651: Sungai Penuh\n",
      "Processing Record 308 of 651: Moree\n",
      "Processing Record 309 of 651: Belokurikha\n",
      "Processing Record 310 of 651: Nochistlán de Mejía\n",
      "Processing Record 311 of 651: Nikolskoye\n",
      "Processing Record 312 of 651: Cherskiy\n",
      "Processing Record 313 of 651: Gorbatovka\n",
      "Processing Record 314 of 651: Lompoc\n",
      "Processing Record 315 of 651: Lukang\n",
      "Processing Record 316 of 651: Sobolevo\n",
      "Processing Record 317 of 651: Villa Constitución\n",
      "Processing Record 318 of 651: Krasnyy Chikoy\n",
      "Processing Record 319 of 651: Pumiao\n",
      "Processing Record 320 of 651: Bambous Virieux\n",
      "Processing Record 321 of 651: Aljezur\n",
      "Processing Record 322 of 651: Auki\n",
      "Processing Record 323 of 651: Saint Simons\n",
      "Processing Record 324 of 651: Vengerovo\n",
      "Processing Record 325 of 651: Andenes\n",
      "Processing Record 326 of 651: Neuquén\n",
      "Processing Record 327 of 651: Crib Point\n",
      "Processing Record 328 of 651: Lebu\n",
      "City not found. Skipping...\n",
      "Processing Record 330 of 651: Codrington\n",
      "Processing Record 331 of 651: Mount Isa\n",
      "Processing Record 332 of 651: Petropavlovsk-Kamchatskiy\n",
      "Processing Record 333 of 651: Kimbe\n",
      "Processing Record 334 of 651: Visnes\n",
      "Processing Record 335 of 651: Statesboro\n",
      "Processing Record 336 of 651: Walvis Bay\n",
      "Processing Record 337 of 651: Saint-Joseph\n",
      "Processing Record 338 of 651: Sarab\n",
      "Processing Record 339 of 651: Saskylakh\n",
      "Processing Record 340 of 651: Sechura\n",
      "Processing Record 341 of 651: Miramar\n",
      "City not found. Skipping...\n",
      "Processing Record 343 of 651: Inírida\n",
      "Processing Record 344 of 651: Labuhan\n",
      "Processing Record 345 of 651: Port Macquarie\n",
      "Processing Record 346 of 651: Téra\n",
      "City not found. Skipping...\n",
      "Processing Record 348 of 651: Ełk\n",
      "City not found. Skipping...\n",
      "Processing Record 350 of 651: Kavieng\n",
      "Processing Record 351 of 651: Mareeba\n",
      "Processing Record 352 of 651: Barranca\n",
      "Processing Record 353 of 651: Kalemie\n",
      "City not found. Skipping...\n",
      "Processing Record 355 of 651: Swan River\n",
      "Processing Record 356 of 651: Whitehorse\n",
      "Processing Record 357 of 651: Kismayo\n",
      "Processing Record 358 of 651: Sayán\n",
      "Processing Record 359 of 651: Manokwari\n",
      "Processing Record 360 of 651: Vestmannaeyjar\n",
      "Processing Record 361 of 651: Departamento de Maldonado\n",
      "Processing Record 362 of 651: Nueva Imperial\n",
      "Processing Record 363 of 651: Omsukchan\n",
      "Processing Record 364 of 651: Troitsko-Pechorsk\n",
      "Processing Record 365 of 651: Linxia Chengguanzhen\n",
      "Processing Record 366 of 651: Port Lincoln\n",
      "Processing Record 367 of 651: Grand Gaube\n",
      "Processing Record 368 of 651: Upernavik\n",
      "Processing Record 369 of 651: Vardø\n",
      "Processing Record 370 of 651: Gondanglegi\n",
      "Processing Record 371 of 651: Ébolowa\n",
      "Processing Record 372 of 651: Naze\n",
      "Processing Record 373 of 651: Udachny\n",
      "City not found. Skipping...\n",
      "Processing Record 375 of 651: Lagoa\n",
      "City not found. Skipping...\n",
      "Processing Record 377 of 651: La Sarre\n",
      "Processing Record 378 of 651: Green River\n",
      "Processing Record 379 of 651: Cambridge\n",
      "Processing Record 380 of 651: Roebourne\n",
      "Processing Record 381 of 651: Kultuk\n",
      "Processing Record 382 of 651: Igarka\n",
      "Processing Record 383 of 651: Coyhaique\n",
      "Processing Record 384 of 651: Santa Lucía\n",
      "Processing Record 385 of 651: Aquiraz\n",
      "Processing Record 386 of 651: Bayir\n",
      "Processing Record 387 of 651: Alta Floresta\n",
      "Processing Record 388 of 651: Neiafu\n",
      "Processing Record 389 of 651: Sanming\n",
      "Processing Record 390 of 651: Olinda\n",
      "Processing Record 391 of 651: Beloha\n",
      "Processing Record 392 of 651: Qaqortoq\n",
      "Processing Record 393 of 651: Taltal\n",
      "Processing Record 394 of 651: Hohhot\n",
      "Processing Record 395 of 651: Poum\n",
      "Processing Record 396 of 651: Kushima\n",
      "Processing Record 397 of 651: Albert Lea\n",
      "Processing Record 398 of 651: Serenje\n",
      "Processing Record 399 of 651: Koster\n",
      "Processing Record 400 of 651: Vostok\n",
      "Processing Record 401 of 651: Iquique\n",
      "City not found. Skipping...\n",
      "Processing Record 403 of 651: Raudeberg\n",
      "Processing Record 404 of 651: Ponta Delgada\n",
      "Processing Record 405 of 651: Darhan\n",
      "Processing Record 406 of 651: Lityn\n",
      "Processing Record 407 of 651: Kumul\n",
      "City not found. Skipping...\n",
      "Processing Record 409 of 651: Zabul Province\n",
      "Processing Record 410 of 651: Toma\n",
      "Processing Record 411 of 651: Picuí\n",
      "Processing Record 412 of 651: Jiangyou\n",
      "City not found. Skipping...\n",
      "Processing Record 414 of 651: Algodones\n",
      "Processing Record 415 of 651: Kahului\n",
      "Processing Record 416 of 651: Baffa\n",
      "Processing Record 417 of 651: Miguel Pereira\n",
      "Processing Record 418 of 651: Tupik\n",
      "Processing Record 419 of 651: Zheleznodorozhnyy\n",
      "Processing Record 420 of 651: Lensk\n",
      "Processing Record 421 of 651: São João da Barra\n",
      "Processing Record 422 of 651: Zhuhai\n",
      "Processing Record 423 of 651: Llangefni\n"
     ]
    },
    {
     "name": "stdout",
     "output_type": "stream",
     "text": [
      "Processing Record 424 of 651: Prince Rupert\n",
      "Processing Record 425 of 651: Esmeraldas\n",
      "Processing Record 426 of 651: São Gabriel da Cachoeira\n",
      "City not found. Skipping...\n",
      "Processing Record 428 of 651: Wattegama\n",
      "Processing Record 429 of 651: La Rioja\n",
      "Processing Record 430 of 651: Sovetskiy\n",
      "Processing Record 431 of 651: Zhigansk\n",
      "Processing Record 432 of 651: Esim\n",
      "Processing Record 433 of 651: Pombas\n",
      "Processing Record 434 of 651: Veinticinco de Mayo\n",
      "Processing Record 435 of 651: Asilah\n",
      "Processing Record 436 of 651: Gornopravdinsk\n",
      "Processing Record 437 of 651: Acajutla\n",
      "Processing Record 438 of 651: The Valley\n",
      "Processing Record 439 of 651: Plastun\n",
      "Processing Record 440 of 651: Marrakesh\n",
      "Processing Record 441 of 651: Broken Hill\n",
      "Processing Record 442 of 651: Leningradskiy\n",
      "Processing Record 443 of 651: Narsaq\n",
      "Processing Record 444 of 651: Quatre Cocos\n",
      "Processing Record 445 of 651: Paamiut\n",
      "Processing Record 446 of 651: Nyurba\n",
      "Processing Record 447 of 651: Yafran\n",
      "Processing Record 448 of 651: Shīeli\n",
      "Processing Record 449 of 651: Tokmak\n",
      "Processing Record 450 of 651: Araouane\n",
      "Processing Record 451 of 651: Acarí\n",
      "Processing Record 452 of 651: Mogadishu\n",
      "Processing Record 453 of 651: Torbay\n",
      "Processing Record 454 of 651: Clyde River\n",
      "Processing Record 455 of 651: Sennar\n",
      "City not found. Skipping...\n",
      "Processing Record 457 of 651: Marquette\n",
      "Processing Record 458 of 651: Paita\n",
      "Processing Record 459 of 651: Mabamba\n",
      "Processing Record 460 of 651: Flic en Flac\n",
      "Processing Record 461 of 651: Isangel\n",
      "Processing Record 462 of 651: Jászberény\n",
      "Processing Record 463 of 651: College\n",
      "Processing Record 464 of 651: Vila Franca do Campo\n",
      "Processing Record 465 of 651: Médéa\n",
      "Processing Record 466 of 651: Malé\n",
      "Processing Record 467 of 651: Yavatmal\n",
      "Processing Record 468 of 651: Tolbazy\n",
      "Processing Record 469 of 651: Tateyama\n",
      "Processing Record 470 of 651: Tarko-Sale\n",
      "Processing Record 471 of 651: Le Vauclin\n",
      "Processing Record 472 of 651: Phimai\n",
      "Processing Record 473 of 651: Zilupe\n",
      "Processing Record 474 of 651: Pangody\n",
      "Processing Record 475 of 651: Ecoporanga\n",
      "Processing Record 476 of 651: Delta\n",
      "Processing Record 477 of 651: Cangzhou\n",
      "Processing Record 478 of 651: Zhanakorgan\n",
      "Processing Record 479 of 651: Buala\n",
      "Processing Record 480 of 651: Ucluelet\n",
      "City not found. Skipping...\n",
      "Processing Record 482 of 651: Bethel\n",
      "Processing Record 483 of 651: Oktyabr'skiy\n",
      "Processing Record 484 of 651: Kamina\n",
      "Processing Record 485 of 651: Potamiá\n",
      "Processing Record 486 of 651: Mehamn\n",
      "Processing Record 487 of 651: Buarcos\n",
      "Processing Record 488 of 651: Sorong\n",
      "Processing Record 489 of 651: Nantucket\n",
      "Processing Record 490 of 651: Ōhara\n",
      "Processing Record 491 of 651: Pitimbu\n",
      "Processing Record 492 of 651: Jining\n",
      "City not found. Skipping...\n",
      "Processing Record 494 of 651: Hualmay\n",
      "Processing Record 495 of 651: Bilibino\n",
      "Processing Record 496 of 651: Moerai\n",
      "Processing Record 497 of 651: Aswān\n",
      "Processing Record 498 of 651: Palmer\n",
      "City not found. Skipping...\n",
      "Processing Record 500 of 651: Zambrów\n",
      "Processing Record 501 of 651: Kapoeta\n",
      "Processing Record 502 of 651: Touros\n",
      "Processing Record 503 of 651: Sokoto\n",
      "City not found. Skipping...\n",
      "Processing Record 505 of 651: Oddur\n",
      "Processing Record 506 of 651: Zemio\n",
      "Processing Record 507 of 651: Half Moon Bay\n",
      "Processing Record 508 of 651: Birjand\n",
      "Processing Record 509 of 651: Gravdal\n",
      "Processing Record 510 of 651: Itoman\n",
      "Processing Record 511 of 651: Odesskoye\n",
      "Processing Record 512 of 651: San Martín\n",
      "Processing Record 513 of 651: Banepā\n",
      "Processing Record 514 of 651: Dhidhdhoo\n",
      "Processing Record 515 of 651: Toora-Khem\n",
      "City not found. Skipping...\n",
      "Processing Record 517 of 651: Bosaso\n",
      "Processing Record 518 of 651: Kunya\n",
      "City not found. Skipping...\n",
      "Processing Record 520 of 651: Yangambi\n",
      "Processing Record 521 of 651: Hanna\n",
      "Processing Record 522 of 651: Velyka Bahachka\n",
      "Processing Record 523 of 651: San Marcos\n",
      "Processing Record 524 of 651: Penzance\n",
      "Processing Record 525 of 651: Bull Savanna\n",
      "Processing Record 526 of 651: Sauce\n",
      "Processing Record 527 of 651: Verkhnyaya Inta\n",
      "City not found. Skipping...\n",
      "Processing Record 529 of 651: Katangli\n",
      "Processing Record 530 of 651: Nālūt\n",
      "Processing Record 531 of 651: Gazojak\n",
      "Processing Record 532 of 651: Namatanai\n",
      "Processing Record 533 of 651: Praia\n",
      "Processing Record 534 of 651: Hukuntsi\n",
      "Processing Record 535 of 651: Vao\n",
      "Processing Record 536 of 651: Balkhash\n",
      "Processing Record 537 of 651: Buenos Aires\n",
      "Processing Record 538 of 651: Kinablangan\n",
      "Processing Record 539 of 651: Mahibadhoo\n",
      "Processing Record 540 of 651: Mabaruma\n",
      "Processing Record 541 of 651: Ayan\n",
      "Processing Record 542 of 651: Alofi\n",
      "Processing Record 543 of 651: Brae\n",
      "Processing Record 544 of 651: Sørland\n",
      "Processing Record 545 of 651: Fruitvale\n",
      "Processing Record 546 of 651: Smoky Lake\n",
      "Processing Record 547 of 651: Sandpoint\n",
      "Processing Record 548 of 651: Bell Ville\n",
      "Processing Record 549 of 651: Gijón\n",
      "Processing Record 550 of 651: Menongue\n",
      "Processing Record 551 of 651: Baft\n",
      "Processing Record 552 of 651: Cervo\n",
      "Processing Record 553 of 651: Sindor\n",
      "Processing Record 554 of 651: Yulara\n",
      "Processing Record 555 of 651: Ilek\n",
      "Processing Record 556 of 651: Lumphat\n",
      "Processing Record 557 of 651: Nhulunbuy\n",
      "Processing Record 558 of 651: Kisangani\n",
      "City not found. Skipping...\n",
      "Processing Record 560 of 651: Kommunisticheskiy\n",
      "Processing Record 561 of 651: Ahipara\n",
      "Processing Record 562 of 651: Krasnosel'kup\n",
      "Processing Record 563 of 651: Kedrovyy\n",
      "City not found. Skipping...\n",
      "Processing Record 565 of 651: Lappeenranta\n",
      "Processing Record 566 of 651: Magdagachi\n",
      "Processing Record 567 of 651: Alpena\n",
      "Processing Record 568 of 651: Yumen\n",
      "Processing Record 569 of 651: Gualaquiza\n",
      "Processing Record 570 of 651: Oodweyne\n",
      "Processing Record 571 of 651: Lüderitz\n",
      "Processing Record 572 of 651: Dawei\n",
      "City not found. Skipping...\n",
      "City not found. Skipping...\n",
      "Processing Record 575 of 651: Sept-Îles\n",
      "Processing Record 576 of 651: Puerto Madryn\n",
      "Processing Record 577 of 651: Dingzhou\n",
      "Processing Record 578 of 651: ‘Ewa Beach\n",
      "City not found. Skipping...\n",
      "Processing Record 580 of 651: Homer\n",
      "Processing Record 581 of 651: Ilo\n",
      "Processing Record 582 of 651: Saint-Louis\n",
      "Processing Record 583 of 651: Kalengwa\n",
      "Processing Record 584 of 651: Takoradze\n",
      "Processing Record 585 of 651: Moses Lake\n",
      "Processing Record 586 of 651: Pisco\n",
      "Processing Record 587 of 651: Seymchan\n",
      "Processing Record 588 of 651: Wahiawā\n",
      "Processing Record 589 of 651: Santa Isabel Rio Negro\n",
      "Processing Record 590 of 651: Ensenada\n",
      "Processing Record 591 of 651: Mitsamiouli\n",
      "Processing Record 592 of 651: Laiya\n",
      "City not found. Skipping...\n",
      "Processing Record 594 of 651: Umluj\n",
      "Processing Record 595 of 651: Carballo\n",
      "Processing Record 596 of 651: Pilar\n",
      "Processing Record 597 of 651: Skibbereen\n",
      "Processing Record 598 of 651: Malpe\n",
      "Processing Record 599 of 651: Tura\n",
      "Processing Record 600 of 651: Destin\n",
      "Processing Record 601 of 651: Schrobenhausen\n",
      "City not found. Skipping...\n",
      "Processing Record 603 of 651: Aksarka\n",
      "Processing Record 604 of 651: Alcañiz\n",
      "Processing Record 605 of 651: Pelym\n",
      "Processing Record 606 of 651: Itarema\n",
      "Processing Record 607 of 651: Añisoc\n",
      "Processing Record 608 of 651: Severnyy\n",
      "Processing Record 609 of 651: Wenling\n",
      "Processing Record 610 of 651: Ngunguru\n",
      "Processing Record 611 of 651: Coquimbo\n",
      "Processing Record 612 of 651: Burnie\n",
      "Processing Record 613 of 651: Bira\n",
      "Processing Record 614 of 651: Bambanglipuro\n",
      "Processing Record 615 of 651: Abu Samrah\n",
      "Processing Record 616 of 651: Pokhvistnevo\n",
      "Processing Record 617 of 651: Yerbogachën\n",
      "Processing Record 618 of 651: Aripuanã\n",
      "Processing Record 619 of 651: Hamilton\n",
      "Processing Record 620 of 651: Teya\n",
      "Processing Record 621 of 651: Dzhebariki-Khaya\n",
      "Processing Record 622 of 651: Carbonia\n",
      "Processing Record 623 of 651: Ordu\n",
      "Processing Record 624 of 651: Çorum Province\n",
      "Processing Record 625 of 651: Warrnambool\n",
      "Processing Record 626 of 651: Yeniseysk\n",
      "City not found. Skipping...\n",
      "Processing Record 628 of 651: Soledade\n",
      "Processing Record 629 of 651: Evensk\n",
      "Processing Record 630 of 651: Novosheshminsk\n",
      "Processing Record 631 of 651: Adrar\n",
      "Processing Record 632 of 651: Rawson\n",
      "Processing Record 633 of 651: Marabu\n",
      "Processing Record 634 of 651: Waingapu\n",
      "Processing Record 635 of 651: Winnemucca\n",
      "Processing Record 636 of 651: Beringovskiy\n",
      "Processing Record 637 of 651: Saquena\n",
      "Processing Record 638 of 651: Khandyga\n"
     ]
    },
    {
     "name": "stdout",
     "output_type": "stream",
     "text": [
      "Processing Record 639 of 651: Gevrai\n",
      "Processing Record 640 of 651: Toamasina\n",
      "Processing Record 641 of 651: Santa Marta\n",
      "Processing Record 642 of 651: Lichuan\n",
      "Processing Record 643 of 651: Deputatsky\n",
      "Processing Record 644 of 651: Bereda\n",
      "Processing Record 645 of 651: Malinovskiy\n",
      "Processing Record 646 of 651: Krasnokamensk\n",
      "Processing Record 647 of 651: Mokhsogollokh\n",
      "Processing Record 648 of 651: Griffith\n",
      "Processing Record 649 of 651: Gabú\n",
      "Processing Record 650 of 651: Madawaska\n",
      "Processing Record 651 of 651: Makakilo City\n",
      "-----------------------------\n",
      "Data Retrieval Complete\n",
      "-----------------------------\n"
     ]
    }
   ],
   "source": [
    "# empty arrays to be appended\n",
    "city = []\n",
    "cloudiness = []\n",
    "country = []\n",
    "date = []\n",
    "humidity = []\n",
    "lat = []\n",
    "lng = []\n",
    "max_temp = []\n",
    "wind_speed = []\n",
    "\n",
    "# base url\n",
    "url = \"http://api.openweathermap.org/data/2.5/weather?\"\n",
    "units = \"imperial\"\n",
    "\n",
    "# start of the print\n",
    "print(\"Beginning Data Retrieval\")\n",
    "print(\"-----------------------------\")\n",
    "\n",
    "# start counter\n",
    "count = 0\n",
    "\n",
    "for citi in cities:\n",
    "    # Build query URL\n",
    "    query_url = f\"{url}appid={weather_api_key}&q={citi}&units={units}\"\n",
    "    \n",
    "    # Get weather data\n",
    "    weather_json = requests.get(query_url).json()\n",
    "    \n",
    "    # increase count\n",
    "    count += 1\n",
    "\n",
    "    try:\n",
    "        #print city name\n",
    "        name = weather_json[\"name\"]\n",
    "        print(f\"Processing Record {count} of {len(cities)}: {name}\")\n",
    "        \n",
    "        #append arrays\n",
    "        city.append(weather_json[\"name\"])\n",
    "        cloudiness.append(weather_json[\"clouds\"][\"all\"])\n",
    "        country.append(weather_json[\"sys\"][\"country\"])\n",
    "        date.append(weather_json[\"dt\"])\n",
    "        humidity.append(weather_json[\"main\"][\"humidity\"])\n",
    "        max_temp.append(weather_json[\"main\"][\"temp_max\"])\n",
    "        wind_speed.append(weather_json[\"wind\"][\"speed\"])\n",
    "        lat.append(weather_json[\"coord\"][\"lat\"])\n",
    "        lng.append(weather_json[\"coord\"][\"lon\"])\n",
    "        \n",
    "    except:\n",
    "        print(\"City not found. Skipping...\")\n",
    "    \n",
    "print(\"-----------------------------\")\n",
    "print(\"Data Retrieval Complete\")\n",
    "print(\"-----------------------------\")\n",
    "        "
   ]
  },
  {
   "cell_type": "markdown",
   "metadata": {},
   "source": [
    "### Convert Raw Data to DataFrame\n",
    "* Export the city data into a .csv.\n",
    "* Display the DataFrame"
   ]
  },
  {
   "cell_type": "code",
   "execution_count": 4,
   "metadata": {},
   "outputs": [
    {
     "data": {
      "text/plain": [
       "City               600\n",
       "Country            600\n",
       "Date               600\n",
       "Latitude           600\n",
       "Longitude          600\n",
       "Cloudiness         600\n",
       "Humidity           600\n",
       "Max Temperature    600\n",
       "Wind Speed         600\n",
       "dtype: int64"
      ]
     },
     "execution_count": 4,
     "metadata": {},
     "output_type": "execute_result"
    }
   ],
   "source": [
    "# to convert timestamp to regular date\n",
    "from datetime import datetime\n",
    "\n",
    "converted_date = []\n",
    "\n",
    "for dt in date:\n",
    "    converted_date.append(datetime.fromtimestamp(dt))\n",
    "    \n",
    "\n",
    "# read csv file\n",
    "df = pd.DataFrame({\n",
    "    \"City\": city,\n",
    "    \"Country\": country,\n",
    "    \"Date\": converted_date,\n",
    "    \"Latitude\": lat,\n",
    "    \"Longitude\": lng,\n",
    "    \"Cloudiness\": cloudiness,\n",
    "    \"Humidity\": humidity,\n",
    "    \"Max Temperature\": max_temp,\n",
    "    \"Wind Speed\": wind_speed\n",
    "})\n",
    "\n",
    "# save data frame as csv\n",
    "df.to_csv(\"../output_data/cities.csv\", encoding='utf-8', index=False)\n",
    "\n",
    "# view number of items per column\n",
    "df.count()"
   ]
  },
  {
   "cell_type": "code",
   "execution_count": 5,
   "metadata": {},
   "outputs": [
    {
     "data": {
      "text/html": [
       "<div>\n",
       "<style scoped>\n",
       "    .dataframe tbody tr th:only-of-type {\n",
       "        vertical-align: middle;\n",
       "    }\n",
       "\n",
       "    .dataframe tbody tr th {\n",
       "        vertical-align: top;\n",
       "    }\n",
       "\n",
       "    .dataframe thead th {\n",
       "        text-align: right;\n",
       "    }\n",
       "</style>\n",
       "<table border=\"1\" class=\"dataframe\">\n",
       "  <thead>\n",
       "    <tr style=\"text-align: right;\">\n",
       "      <th></th>\n",
       "      <th>City</th>\n",
       "      <th>Country</th>\n",
       "      <th>Date</th>\n",
       "      <th>Latitude</th>\n",
       "      <th>Longitude</th>\n",
       "      <th>Cloudiness</th>\n",
       "      <th>Humidity</th>\n",
       "      <th>Max Temperature</th>\n",
       "      <th>Wind Speed</th>\n",
       "    </tr>\n",
       "  </thead>\n",
       "  <tbody>\n",
       "    <tr>\n",
       "      <th>0</th>\n",
       "      <td>Rikitea</td>\n",
       "      <td>PF</td>\n",
       "      <td>2020-09-10 15:22:36</td>\n",
       "      <td>-23.12</td>\n",
       "      <td>-134.97</td>\n",
       "      <td>100</td>\n",
       "      <td>82</td>\n",
       "      <td>73.51</td>\n",
       "      <td>19.95</td>\n",
       "    </tr>\n",
       "    <tr>\n",
       "      <th>1</th>\n",
       "      <td>Busselton</td>\n",
       "      <td>AU</td>\n",
       "      <td>2020-09-10 15:22:37</td>\n",
       "      <td>-33.65</td>\n",
       "      <td>115.33</td>\n",
       "      <td>68</td>\n",
       "      <td>78</td>\n",
       "      <td>46.99</td>\n",
       "      <td>3.18</td>\n",
       "    </tr>\n",
       "    <tr>\n",
       "      <th>2</th>\n",
       "      <td>Vaini</td>\n",
       "      <td>TO</td>\n",
       "      <td>2020-09-10 15:22:37</td>\n",
       "      <td>-21.20</td>\n",
       "      <td>-175.20</td>\n",
       "      <td>75</td>\n",
       "      <td>88</td>\n",
       "      <td>73.40</td>\n",
       "      <td>11.41</td>\n",
       "    </tr>\n",
       "    <tr>\n",
       "      <th>3</th>\n",
       "      <td>Jamestown</td>\n",
       "      <td>US</td>\n",
       "      <td>2020-09-10 15:20:15</td>\n",
       "      <td>42.10</td>\n",
       "      <td>-79.24</td>\n",
       "      <td>90</td>\n",
       "      <td>83</td>\n",
       "      <td>73.00</td>\n",
       "      <td>3.36</td>\n",
       "    </tr>\n",
       "    <tr>\n",
       "      <th>4</th>\n",
       "      <td>East London</td>\n",
       "      <td>ZA</td>\n",
       "      <td>2020-09-10 15:22:37</td>\n",
       "      <td>-33.02</td>\n",
       "      <td>27.91</td>\n",
       "      <td>20</td>\n",
       "      <td>87</td>\n",
       "      <td>60.80</td>\n",
       "      <td>5.82</td>\n",
       "    </tr>\n",
       "    <tr>\n",
       "      <th>...</th>\n",
       "      <td>...</td>\n",
       "      <td>...</td>\n",
       "      <td>...</td>\n",
       "      <td>...</td>\n",
       "      <td>...</td>\n",
       "      <td>...</td>\n",
       "      <td>...</td>\n",
       "      <td>...</td>\n",
       "      <td>...</td>\n",
       "    </tr>\n",
       "    <tr>\n",
       "      <th>595</th>\n",
       "      <td>Mokhsogollokh</td>\n",
       "      <td>RU</td>\n",
       "      <td>2020-09-10 15:24:33</td>\n",
       "      <td>61.47</td>\n",
       "      <td>128.92</td>\n",
       "      <td>99</td>\n",
       "      <td>75</td>\n",
       "      <td>46.22</td>\n",
       "      <td>3.89</td>\n",
       "    </tr>\n",
       "    <tr>\n",
       "      <th>596</th>\n",
       "      <td>Griffith</td>\n",
       "      <td>US</td>\n",
       "      <td>2020-09-10 15:20:08</td>\n",
       "      <td>41.53</td>\n",
       "      <td>-87.42</td>\n",
       "      <td>75</td>\n",
       "      <td>72</td>\n",
       "      <td>66.00</td>\n",
       "      <td>10.29</td>\n",
       "    </tr>\n",
       "    <tr>\n",
       "      <th>597</th>\n",
       "      <td>Gabú</td>\n",
       "      <td>GW</td>\n",
       "      <td>2020-09-10 15:24:34</td>\n",
       "      <td>12.28</td>\n",
       "      <td>-14.22</td>\n",
       "      <td>100</td>\n",
       "      <td>88</td>\n",
       "      <td>80.42</td>\n",
       "      <td>3.42</td>\n",
       "    </tr>\n",
       "    <tr>\n",
       "      <th>598</th>\n",
       "      <td>Madawaska</td>\n",
       "      <td>US</td>\n",
       "      <td>2020-09-10 15:24:34</td>\n",
       "      <td>47.36</td>\n",
       "      <td>-68.33</td>\n",
       "      <td>90</td>\n",
       "      <td>93</td>\n",
       "      <td>53.01</td>\n",
       "      <td>5.82</td>\n",
       "    </tr>\n",
       "    <tr>\n",
       "      <th>599</th>\n",
       "      <td>Makakilo City</td>\n",
       "      <td>US</td>\n",
       "      <td>2020-09-10 15:24:34</td>\n",
       "      <td>21.35</td>\n",
       "      <td>-158.09</td>\n",
       "      <td>1</td>\n",
       "      <td>54</td>\n",
       "      <td>84.20</td>\n",
       "      <td>8.05</td>\n",
       "    </tr>\n",
       "  </tbody>\n",
       "</table>\n",
       "<p>600 rows × 9 columns</p>\n",
       "</div>"
      ],
      "text/plain": [
       "              City Country                Date  Latitude  Longitude  \\\n",
       "0          Rikitea      PF 2020-09-10 15:22:36    -23.12    -134.97   \n",
       "1        Busselton      AU 2020-09-10 15:22:37    -33.65     115.33   \n",
       "2            Vaini      TO 2020-09-10 15:22:37    -21.20    -175.20   \n",
       "3        Jamestown      US 2020-09-10 15:20:15     42.10     -79.24   \n",
       "4      East London      ZA 2020-09-10 15:22:37    -33.02      27.91   \n",
       "..             ...     ...                 ...       ...        ...   \n",
       "595  Mokhsogollokh      RU 2020-09-10 15:24:33     61.47     128.92   \n",
       "596       Griffith      US 2020-09-10 15:20:08     41.53     -87.42   \n",
       "597           Gabú      GW 2020-09-10 15:24:34     12.28     -14.22   \n",
       "598      Madawaska      US 2020-09-10 15:24:34     47.36     -68.33   \n",
       "599  Makakilo City      US 2020-09-10 15:24:34     21.35    -158.09   \n",
       "\n",
       "     Cloudiness  Humidity  Max Temperature  Wind Speed  \n",
       "0           100        82            73.51       19.95  \n",
       "1            68        78            46.99        3.18  \n",
       "2            75        88            73.40       11.41  \n",
       "3            90        83            73.00        3.36  \n",
       "4            20        87            60.80        5.82  \n",
       "..          ...       ...              ...         ...  \n",
       "595          99        75            46.22        3.89  \n",
       "596          75        72            66.00       10.29  \n",
       "597         100        88            80.42        3.42  \n",
       "598          90        93            53.01        5.82  \n",
       "599           1        54            84.20        8.05  \n",
       "\n",
       "[600 rows x 9 columns]"
      ]
     },
     "execution_count": 5,
     "metadata": {},
     "output_type": "execute_result"
    }
   ],
   "source": [
    "# print data frame\n",
    "df"
   ]
  },
  {
   "cell_type": "markdown",
   "metadata": {},
   "source": [
    "## Inspect the data and remove the cities where the humidity > 100%.\n",
    "----\n",
    "Skip this step if there are no cities that have humidity > 100%. "
   ]
  },
  {
   "cell_type": "markdown",
   "metadata": {},
   "source": [
    "## Plotting the Data\n",
    "* Use proper labeling of the plots using plot titles (including date of analysis) and axes labels.\n",
    "* Save the plotted figures as .pngs."
   ]
  },
  {
   "cell_type": "markdown",
   "metadata": {},
   "source": [
    "## Latitude vs. Temperature Plot"
   ]
  },
  {
   "cell_type": "code",
   "execution_count": 8,
   "metadata": {
    "scrolled": true
   },
   "outputs": [
    {
     "data": {
      "image/png": "[encoded data removed]",
      "text/plain": [
       "<Figure size 432x288 with 1 Axes>"
      ]
     },
     "metadata": {
      "needs_background": "light"
     },
     "output_type": "display_data"
    }
   ],
   "source": [
    "# create scatter plot\n",
    "plt.scatter(df[\"Latitude\"], df[\"Max Temperature\"])\n",
    "\n",
    "# add labels and title\n",
    "plt.title(f\"City Latitude vs. Max Temperature {converted_date[0]}\")\n",
    "plt.xlabel(\"Latitude\")\n",
    "plt.ylabel(\"Max Temperature (F)\")\n",
    "\n",
    "# add grid lines\n",
    "plt.grid()\n",
    "\n",
    "# show and save pic\n",
    "plt.savefig(\"../output_data/1LatvTemp.png\")\n",
    "plt.show()"
   ]
  },
  {
   "cell_type": "markdown",
   "metadata": {},
   "source": [
    "Graph Explanation\n",
    "\n",
    "This scatterplot shows the relationship between the max temperature (F) in each city based on its latitude. Based on the results, it seems the closer you get to the equator the hotter it gets, and the further away, the colder it gets.\n",
    "\n",
    "## Latitude vs. Humidity Plot"
   ]
  },
  {
   "cell_type": "code",
   "execution_count": 9,
   "metadata": {},
   "outputs": [
    {
     "data": {
      "image/png": "[encoded data removed]",
      "text/plain": [
       "<Figure size 432x288 with 1 Axes>"
      ]
     },
     "metadata": {
      "needs_background": "light"
     },
     "output_type": "display_data"
    }
   ],
   "source": [
    "# create scatter plot\n",
    "plt.scatter(df[\"Latitude\"], df[\"Humidity\"])\n",
    "\n",
    "# add labels and title\n",
    "plt.title(f\"City Latitude vs. Humidity {converted_date[0]}\")\n",
    "plt.xlabel(\"Latitude\")\n",
    "plt.ylabel(\"Humidity (%)\")\n",
    "\n",
    "# add grid lines\n",
    "plt.grid()\n",
    "\n",
    "# show and save pic\n",
    "plt.savefig(\"../output_data/2LatvHumid.png\")\n",
    "plt.show()"
   ]
  },
  {
   "cell_type": "markdown",
   "metadata": {},
   "source": [
    "Graph Explanation\n",
    "\n",
    "This scatterplot shows the relationship between the humidity (%) in each city based on its latitude. Based on the results, it does not seem that latitude affects humidity since the data points are all over the place.\n",
    "\n",
    "## Latitude vs. Cloudiness Plot"
   ]
  },
  {
   "cell_type": "code",
   "execution_count": 10,
   "metadata": {},
   "outputs": [
    {
     "data": {
      "image/png": "[encoded data removed]",
      "text/plain": [
       "<Figure size 432x288 with 1 Axes>"
      ]
     },
     "metadata": {
      "needs_background": "light"
     },
     "output_type": "display_data"
    }
   ],
   "source": [
    "# create scatter plot\n",
    "plt.scatter(df[\"Latitude\"], df[\"Cloudiness\"])\n",
    "\n",
    "# add labels and title\n",
    "plt.title(f\"City Latitude vs. Cloudiness {converted_date[0]}\")\n",
    "plt.xlabel(\"Latitude\")\n",
    "plt.ylabel(\"Cloudiness (%)\")\n",
    "\n",
    "# add grid lines\n",
    "plt.grid()\n",
    "\n",
    "# show and save pic\n",
    "plt.savefig(\"../output_data/3LatvCloud.png\")\n",
    "plt.show()"
   ]
  },
  {
   "cell_type": "markdown",
   "metadata": {},
   "source": [
    "Graph Explanation\n",
    "\n",
    "This scatterplot shows the relationship between the cloudiness (%) in each city based on its latitude. Based on the results, it does not seem that latitude affects cloudiness since the data points are all over the place.\n",
    "\n",
    "## Latitude vs. Wind Speed Plot"
   ]
  },
  {
   "cell_type": "code",
   "execution_count": 11,
   "metadata": {},
   "outputs": [
    {
     "data": {
      "image/png": "[encoded data removed]",
      "text/plain": [
       "<Figure size 432x288 with 1 Axes>"
      ]
     },
     "metadata": {
      "needs_background": "light"
     },
     "output_type": "display_data"
    }
   ],
   "source": [
    "# create scatter plot\n",
    "plt.scatter(df[\"Latitude\"], df[\"Wind Speed\"])\n",
    "\n",
    "# add labels and title\n",
    "plt.title(f\"City Latitude vs. Wind Speed {converted_date[0]}\")\n",
    "plt.xlabel(\"Latitude\")\n",
    "plt.ylabel(\"Wind Speed (mph)\")\n",
    "\n",
    "# add grid lines\n",
    "plt.grid()\n",
    "\n",
    "# show and save pic\n",
    "plt.savefig(\"../output_data/4LatvWind.png\")\n",
    "plt.show()"
   ]
  },
  {
   "cell_type": "markdown",
   "metadata": {},
   "source": [
    "Graph Explanation\n",
    "\n",
    "This scatterplot shows the relationship between the wind speed (mph) in each city based on its latitude. Based on the results, it does not seem that latitude affects wind speed since the data points are all over the place.\n",
    "\n",
    "## Linear Regression"
   ]
  },
  {
   "cell_type": "code",
   "execution_count": 12,
   "metadata": {},
   "outputs": [
    {
     "name": "stdout",
     "output_type": "stream",
     "text": [
      "418\n",
      "182\n"
     ]
    }
   ],
   "source": [
    "# x axis for noth and souht\n",
    "nx_values = []\n",
    "sx_values = []\n",
    "\n",
    "# y axis for temp\n",
    "ny_values = []\n",
    "sy_values = []\n",
    "\n",
    "# y axis for humidity\n",
    "nhy_values = []\n",
    "shy_values = []\n",
    "\n",
    "# y axis for cloudiness\n",
    "ncy_values = []\n",
    "scy_values = []\n",
    "\n",
    "# y axis for wind speed\n",
    "nwy_values = []\n",
    "swy_values = []\n",
    "\n",
    "# create index\n",
    "indexes = range(0, len(df[\"City\"]))\n",
    "\n",
    "# append arrays\n",
    "for index in indexes:\n",
    "    if df[\"Latitude\"][index] >= 0:\n",
    "        nx_values.append(df[\"Latitude\"][index])\n",
    "        ny_values.append(df[\"Max Temperature\"][index])\n",
    "        nhy_values.append(df[\"Humidity\"][index])\n",
    "        ncy_values.append(df[\"Cloudiness\"][index])\n",
    "        nwy_values.append(df[\"Wind Speed\"][index])\n",
    "    if df[\"Latitude\"][index] < 0:\n",
    "        sx_values.append(df[\"Latitude\"][index])\n",
    "        sy_values.append(df[\"Max Temperature\"][index])\n",
    "        shy_values.append(df[\"Humidity\"][index])\n",
    "        scy_values.append(df[\"Cloudiness\"][index])\n",
    "        swy_values.append(df[\"Wind Speed\"][index])\n",
    "        \n",
    " # convert all array values from float to integer\n",
    "nx_values = np.array(nx_values, dtype = \"int\")\n",
    "sx_values = np.array(sx_values, dtype = \"int\")\n",
    "ny_values = np.array(ny_values, dtype = \"int\")\n",
    "sy_values = np.array(sy_values, dtype = \"int\")\n",
    "nhy_values = np.array(nhy_values, dtype = \"int\")\n",
    "shy_values = np.array(shy_values, dtype = \"int\")\n",
    "ncy_values = np.array(ncy_values, dtype = \"int\")\n",
    "scy_values = np.array(scy_values, dtype = \"int\")\n",
    "nwy_values = np.array(nwy_values, dtype = \"int\")\n",
    "swy_values = np.array(swy_values, dtype = \"int\")\n",
    "\n",
    "print(len(nx_values))\n",
    "print(len(sx_values))"
   ]
  },
  {
   "cell_type": "markdown",
   "metadata": {},
   "source": [
    "####  Northern Hemisphere - Max Temp vs. Latitude Linear Regression"
   ]
  },
  {
   "cell_type": "code",
   "execution_count": 13,
   "metadata": {},
   "outputs": [
    {
     "name": "stdout",
     "output_type": "stream",
     "text": [
      "The r-squared is: -0.8184288041937041\n"
     ]
    },
    {
     "data": {
      "image/png": "[encoded data removed]",
      "text/plain": [
       "<Figure size 432x288 with 1 Axes>"
      ]
     },
     "metadata": {
      "needs_background": "light"
     },
     "output_type": "display_data"
    }
   ],
   "source": [
    "(slope, intercept, rvalue, pvalue, stderr) = linregress(nx_values, ny_values)\n",
    "regress_values = nx_values * slope + intercept\n",
    "line_eq = \"y = \" + str(round(slope,2)) + \"x + \" + str(round(intercept,2))\n",
    "plt.scatter(nx_values, ny_values)\n",
    "plt.plot(nx_values,regress_values,\"r-\")\n",
    "plt.annotate(line_eq,(6,10),fontsize=15,color=\"red\")\n",
    "plt.title(\"Northern Latitude Cities vs. Max Temperature\")\n",
    "plt.xlabel(\"Latitude\")\n",
    "plt.ylabel(\"Max Temperature (F)\")\n",
    "print(f\"The r-squared is: {rvalue}\")\n",
    "\n",
    "# show and save pic\n",
    "plt.savefig(\"../output_data/5NLatvTemp.png\")\n",
    "plt.show()"
   ]
  },
  {
   "cell_type": "markdown",
   "metadata": {},
   "source": [
    "Northern Hemisphere: Latitude vs. Max Temp Analysis\n",
    "\n",
    "The linear regression line shows a downward slope, therefore the decrease in temperature is due to the increase in lattitude. It can be concluded that as we move away from the equator the temperature gets lower.\n",
    "\n",
    "####  Southern Hemisphere - Max Temp vs. Latitude Linear Regression"
   ]
  },
  {
   "cell_type": "code",
   "execution_count": 14,
   "metadata": {},
   "outputs": [
    {
     "name": "stdout",
     "output_type": "stream",
     "text": [
      "The r-squared is: 0.677413317893435\n"
     ]
    },
    {
     "data": {
      "image/png": "[encoded data removed]",
      "text/plain": [
       "<Figure size 432x288 with 1 Axes>"
      ]
     },
     "metadata": {
      "needs_background": "light"
     },
     "output_type": "display_data"
    }
   ],
   "source": [
    "(slope, intercept, rvalue, pvalue, stderr) = linregress(sx_values, sy_values)\n",
    "regress_values = sx_values * slope + intercept\n",
    "line_eq = \"y = \" + str(round(slope,2)) + \"x + \" + str(round(intercept,2))\n",
    "plt.scatter(sx_values, sy_values)\n",
    "plt.plot(sx_values,regress_values,\"r-\")\n",
    "plt.annotate(line_eq,(-30,50),fontsize=15,color=\"red\")\n",
    "plt.title(\"Southern Latitude Cities vs. Max Temperature\")\n",
    "plt.xlabel(\"Latitude\")\n",
    "plt.ylabel(\"Max Temperature (F)\")\n",
    "print(f\"The r-squared is: {rvalue}\")\n",
    "\n",
    "# show and save pic\n",
    "plt.savefig(\"../output_data/6SLatvTemp.png\")\n",
    "plt.show()"
   ]
  },
  {
   "cell_type": "markdown",
   "metadata": {},
   "source": [
    "Southern Hemisphere: Latitude vs. Max Temp Analysis\n",
    "\n",
    "The linear regression line shows a upward slope, therefore the increase in temperature is due to the decrease in lattitude. It can be concluded that as we move closer to the equator the temperature gets higher.\n",
    "\n",
    "Graph Explanation\n",
    "\n",
    "These scatterplots shows the relationship between the max temperature (F) in each northern and southern city based on its latitude. Based on the results, it seems the closer you get to the equator the hotter it gets, and the further away, the colder it gets. The Northern graph has a higher r-squared value because it has more of data points (391 vs 171) from the original.\n",
    "\n",
    "####  Northern Hemisphere - Humidity (%) vs. Latitude Linear Regression"
   ]
  },
  {
   "cell_type": "code",
   "execution_count": 15,
   "metadata": {},
   "outputs": [
    {
     "name": "stdout",
     "output_type": "stream",
     "text": [
      "The r-squared is: 0.1437492965537418\n"
     ]
    },
    {
     "data": {
      "image/png": "[encoded data removed]",
      "text/plain": [
       "<Figure size 432x288 with 1 Axes>"
      ]
     },
     "metadata": {
      "needs_background": "light"
     },
     "output_type": "display_data"
    }
   ],
   "source": [
    "(slope, intercept, rvalue, pvalue, stderr) = linregress(nx_values, nhy_values)\n",
    "regress_values = nx_values * slope + intercept\n",
    "line_eq = \"y = \" + str(round(slope,2)) + \"x + \" + str(round(intercept,2))\n",
    "plt.scatter(nx_values, nhy_values)\n",
    "plt.plot(nx_values,regress_values,\"r-\")\n",
    "plt.annotate(line_eq,(45,10),fontsize=15,color=\"red\")\n",
    "plt.title(\"Northern Latitude Cities vs. Humidity\")\n",
    "plt.xlabel(\"Latitude\")\n",
    "plt.ylabel(\"Humidity (%)\")\n",
    "print(f\"The r-squared is: {rvalue}\")\n",
    "\n",
    "# show and save pic\n",
    "plt.savefig(\"../output_data/7NLatvHumid.png\")\n",
    "plt.show()"
   ]
  },
  {
   "cell_type": "markdown",
   "metadata": {},
   "source": [
    "Northern Hemisphere: Latitude vs. Humidity Plot\n",
    "\n",
    "The regression line shows an slight upward trend however it can not be used to draw a conclusion.\n",
    "\n",
    "####  Southern Hemisphere - Humidity (%) vs. Latitude Linear Regression"
   ]
  },
  {
   "cell_type": "code",
   "execution_count": 16,
   "metadata": {},
   "outputs": [
    {
     "name": "stdout",
     "output_type": "stream",
     "text": [
      "The r-squared is: -0.07762666707544964\n"
     ]
    },
    {
     "data": {
      "image/png": "[encoded data removed]",
      "text/plain": [
       "<Figure size 432x288 with 1 Axes>"
      ]
     },
     "metadata": {
      "needs_background": "light"
     },
     "output_type": "display_data"
    }
   ],
   "source": [
    "(slope, intercept, rvalue, pvalue, stderr) = linregress(sx_values, shy_values)\n",
    "regress_values = sx_values * slope + intercept\n",
    "line_eq = \"y = \" + str(round(slope,2)) + \"x + \" + str(round(intercept,2))\n",
    "plt.scatter(sx_values, shy_values)\n",
    "plt.plot(sx_values,regress_values,\"r-\")\n",
    "plt.annotate(line_eq,(-50,55),fontsize=15,color=\"red\")\n",
    "plt.title(\"Southern Latitude Cities vs. Humidity\")\n",
    "plt.xlabel(\"Latitude\")\n",
    "plt.ylabel(\"Humidity (%)\")\n",
    "print(f\"The r-squared is: {rvalue}\")\n",
    "\n",
    "# show and save pic\n",
    "plt.savefig(\"../output_data/8SLatvHumid.png\")\n",
    "plt.show()"
   ]
  },
  {
   "cell_type": "markdown",
   "metadata": {},
   "source": [
    "Southern Hemisphere: Latitude vs. Humidity Plot\n",
    "\n",
    "The regression line shows an slight downward trend however it can not be used to draw a conclusion.\n",
    "\n",
    "Graph Explanation\n",
    "\n",
    "These scatterplots shows the relationship between the humidity (%) in each northern and southern city based on its latitude. Based on the results, it does not seem that latitude affects humidity since the data points are all over the place.\n",
    "\n",
    "\n",
    "\n",
    "####  Northern Hemisphere - Cloudiness (%) vs. Latitude Linear Regression"
   ]
  },
  {
   "cell_type": "code",
   "execution_count": 17,
   "metadata": {},
   "outputs": [
    {
     "name": "stdout",
     "output_type": "stream",
     "text": [
      "The r-squared is: 0.03478731057981521\n"
     ]
    },
    {
     "data": {
      "image/png": "[encoded data removed]",
      "text/plain": [
       "<Figure size 432x288 with 1 Axes>"
      ]
     },
     "metadata": {
      "needs_background": "light"
     },
     "output_type": "display_data"
    }
   ],
   "source": [
    "(slope, intercept, rvalue, pvalue, stderr) = linregress(nx_values, ncy_values)\n",
    "regress_values = nx_values * slope + intercept\n",
    "line_eq = \"y = \" + str(round(slope,2)) + \"x + \" + str(round(intercept,2))\n",
    "plt.scatter(nx_values, ncy_values)\n",
    "plt.plot(nx_values,regress_values,\"r-\")\n",
    "plt.annotate(line_eq,(45,55),fontsize=15,color=\"red\")\n",
    "plt.title(\"Northern Latitude Cities vs. Cloudiness\")\n",
    "plt.xlabel(\"Latitude\")\n",
    "plt.ylabel(\"Cloudiness (%)\")\n",
    "print(f\"The r-squared is: {rvalue}\")\n",
    "\n",
    "# show and save pic\n",
    "plt.savefig(\"../output_data/9NLatvCloud.png\")\n",
    "plt.show()"
   ]
  },
  {
   "cell_type": "markdown",
   "metadata": {},
   "source": [
    "Northern Hemisphere - Cloudiness (%) vs. Latitude Analysis\n",
    "\n",
    "The regression line shows an slight upward trend however it can not be used to draw a conclusion.\n",
    "\n",
    "####  Southern Hemisphere - Cloudiness (%) vs. Latitude Linear Regression"
   ]
  },
  {
   "cell_type": "code",
   "execution_count": 18,
   "metadata": {},
   "outputs": [
    {
     "name": "stdout",
     "output_type": "stream",
     "text": [
      "The r-squared is: -0.12747545552150524\n"
     ]
    },
    {
     "data": {
      "image/png": "[encoded data removed]",
      "text/plain": [
       "<Figure size 432x288 with 1 Axes>"
      ]
     },
     "metadata": {
      "needs_background": "light"
     },
     "output_type": "display_data"
    }
   ],
   "source": [
    "(slope, intercept, rvalue, pvalue, stderr) = linregress(sx_values, scy_values)\n",
    "regress_values = sx_values * slope + intercept\n",
    "line_eq = \"y = \" + str(round(slope,2)) + \"x + \" + str(round(intercept,2))\n",
    "plt.scatter(sx_values, scy_values)\n",
    "plt.plot(sx_values,regress_values,\"r-\")\n",
    "plt.annotate(line_eq,(-45,30),fontsize=15,color=\"red\")\n",
    "plt.title(\"Southern Latitude Cities vs. Cloudiness\")\n",
    "plt.xlabel(\"Latitude\")\n",
    "plt.ylabel(\"Cloudiness (%)\")\n",
    "print(f\"The r-squared is: {rvalue}\")\n",
    "\n",
    "# show and save pic\n",
    "plt.savefig(\"../output_data/10SLatvCloud.png\")\n",
    "plt.show()"
   ]
  },
  {
   "cell_type": "markdown",
   "metadata": {},
   "source": [
    "Southern Hemisphere - Cloudiness (%) vs. Latitude Analysis\n",
    "\n",
    "The regression line shows an slight downward trend however it can not be used to draw a conclusion.\n",
    "\n",
    "Graph Explanation\n",
    "\n",
    "These scatterplots shows the relationship between the cloudiness (%) in each northern and southern city based on its latitude. Based on the results, it does not seem that latitude affects cloudiness since the data points are all over the place.\n",
    "\n",
    "####  Northern Hemisphere - Wind Speed (mph) vs. Latitude Linear Regression"
   ]
  },
  {
   "cell_type": "code",
   "execution_count": 20,
   "metadata": {},
   "outputs": [
    {
     "name": "stdout",
     "output_type": "stream",
     "text": [
      "The r-squared is: 0.07176513455196479\n"
     ]
    },
    {
     "data": {
      "image/png": "[encoded data removed]",
      "text/plain": [
       "<Figure size 432x288 with 1 Axes>"
      ]
     },
     "metadata": {
      "needs_background": "light"
     },
     "output_type": "display_data"
    }
   ],
   "source": [
    "(slope, intercept, rvalue, pvalue, stderr) = linregress(nx_values, nwy_values)\n",
    "regress_values = nx_values * slope + intercept\n",
    "line_eq = \"y = \" + str(round(slope,2)) + \"x + \" + str(round(intercept,2))\n",
    "plt.scatter(nx_values, nwy_values)\n",
    "plt.plot(nx_values,regress_values,\"r-\")\n",
    "plt.annotate(line_eq,(30,25),fontsize=15,color=\"red\")\n",
    "plt.title(\"Northern Latitude Cities vs. Wind Speed\")\n",
    "plt.xlabel(\"Latitude\")\n",
    "plt.ylabel(\"Wind Speed (mph)\")\n",
    "print(f\"The r-squared is: {rvalue}\")\n",
    "\n",
    "# show and save pic\n",
    "plt.savefig(\"../output_data/11NLatvWind.png\")\n",
    "plt.show()"
   ]
  },
  {
   "cell_type": "markdown",
   "metadata": {},
   "source": [
    "Northern Hemisphere - Wind Speed vs. Latitude Analysis\n",
    "\n",
    "The regression line shows a slight upward trend however it can not be used to draw a conclusion.\n",
    "\n",
    "\n",
    "####  Southern Hemisphere - Wind Speed (mph) vs. Latitude Linear Regression"
   ]
  },
  {
   "cell_type": "code",
   "execution_count": 21,
   "metadata": {},
   "outputs": [
    {
     "name": "stdout",
     "output_type": "stream",
     "text": [
      "The r-squared is: -0.12991611517009435\n"
     ]
    },
    {
     "data": {
      "image/png": "[encoded data removed]",
      "text/plain": [
       "<Figure size 432x288 with 1 Axes>"
      ]
     },
     "metadata": {
      "needs_background": "light"
     },
     "output_type": "display_data"
    }
   ],
   "source": [
    "(slope, intercept, rvalue, pvalue, stderr) = linregress(sx_values, swy_values)\n",
    "regress_values = sx_values * slope + intercept\n",
    "line_eq = \"y = \" + str(round(slope,2)) + \"x + \" + str(round(intercept,2))\n",
    "plt.scatter(sx_values, swy_values)\n",
    "plt.plot(sx_values,regress_values,\"r-\")\n",
    "plt.annotate(line_eq,(-30,20),fontsize=15,color=\"red\")\n",
    "plt.title(\"Southern Latitude Cities vs. Wind Speed\")\n",
    "plt.xlabel(\"Latitude\")\n",
    "plt.ylabel(\"Wind Speed (mph)\")\n",
    "print(f\"The r-squared is: {rvalue}\")\n",
    "\n",
    "# show and save pic\n",
    "plt.savefig(\"../output_data/12sLatvWind.png\")\n",
    "plt.show()"
   ]
  },
  {
   "cell_type": "markdown",
   "metadata": {},
   "source": [
    "Southern Hemisphere - Wind Speed vs. Latitude Analysis\n",
    "\n",
    "The regression line shows a slight downward trend however it can not be used to draw a concrete conclusion.\n",
    "\n",
    "Graph Explanation\n",
    "\n",
    "These scatterplots shows the relationship between the wind speed (mph) in each northern and southern city based on its latitude. \n",
    "Based on the results, it does not seem that latitude affects wind speed since the data points are all over the place."
   ]
  },
  {
   "cell_type": "code",
   "execution_count": null,
   "metadata": {},
   "outputs": [],
   "source": []
  }
 ],
 "metadata": {
  "anaconda-cloud": {},
  "kernel_info": {
   "name": "python3"
  },
  "kernelspec": {
   "display_name": "Python 3",
   "language": "python",
   "name": "python3"
  },
  "language_info": {
   "codemirror_mode": {
    "name": "ipython",
    "version": 3
   },
   "file_extension": ".py",
   "mimetype": "text/x-python",
   "name": "python",
   "nbconvert_exporter": "python",
   "pygments_lexer": "ipython3",
   "version": "3.8.5"
  },
  "latex_envs": {
   "LaTeX_envs_menu_present": true,
   "autoclose": false,
   "autocomplete": true,
   "bibliofile": "biblio.bib",
   "cite_by": "apalike",
   "current_citInitial": 1,
   "eqLabelWithNumbers": true,
   "eqNumInitial": 1,
   "hotkeys": {
    "equation": "Ctrl-E",
    "itemize": "Ctrl-I"
   },
   "labels_anchors": false,
   "latex_user_defs": false,
   "report_style_numbering": false,
   "user_envs_cfg": false
  },
  "nteract": {
   "version": "0.12.3"
  }
 },
 "nbformat": 4,
 "nbformat_minor": 2
}
